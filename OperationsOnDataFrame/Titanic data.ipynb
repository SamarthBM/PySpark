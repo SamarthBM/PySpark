{
 "cells": [
  {
   "cell_type": "markdown",
   "source": [
    "\n",
    "\"\"\"\n",
    "\n",
    "@Author: Samarth BM\n",
    "\n",
    "@Date: 2021-11-09\n",
    "\n",
    "@Last Modified by: Samarth BM\n",
    "\n",
    "@Title : To create a dataframe from titanic.csv and perform operations on it.\n",
    "\n",
    "\"\"\""
   ],
   "metadata": {}
  },
  {
   "cell_type": "code",
   "execution_count": 1,
   "source": [
    "import findspark"
   ],
   "outputs": [],
   "metadata": {}
  },
  {
   "cell_type": "code",
   "execution_count": 2,
   "source": [
    "findspark.init('/home/samarth/spark/')"
   ],
   "outputs": [],
   "metadata": {}
  },
  {
   "cell_type": "code",
   "execution_count": null,
   "source": [
    "from pyspark.sql import *\n",
    "spark = SparkSession.builder.getOrCreate()\n",
    "from pyspark.sql.functions import *"
   ],
   "outputs": [],
   "metadata": {}
  },
  {
   "cell_type": "code",
   "execution_count": 4,
   "source": [
    "data = spark.read.option(\"inferSchema\", \"true\").csv(\"hdfs://localhost:9000/FileForRDD/titanic_train.csv\", header=True)"
   ],
   "outputs": [
    {
     "output_type": "stream",
     "name": "stderr",
     "text": []
    }
   ],
   "metadata": {}
  },
  {
   "cell_type": "code",
   "execution_count": 5,
   "source": [
    "data.show()"
   ],
   "outputs": [
    {
     "output_type": "stream",
     "name": "stdout",
     "text": [
      "+------------+------+--------------------+------+----+-----+-----+---------+-------+-----+--------+----+-----+--------------------+--------+\n",
      "|passenger_id|pclass|                name|   sex| age|sibsp|parch|   ticket|   fare|cabin|embarked|boat| body|           home.dest|survived|\n",
      "+------------+------+--------------------+------+----+-----+-----+---------+-------+-----+--------+----+-----+--------------------+--------+\n",
      "|        1216|     3|  Smyth, Miss. Julia|female|null|    0|    0|   335432| 7.7333| null|       Q|  13| null|                null|       1|\n",
      "|         699|     3|     Cacic, Mr. Luka|  male|38.0|    0|    0|   315089| 8.6625| null|       S|null| null|             Croatia|       0|\n",
      "|        1267|     3|Van Impe, Mrs. Je...|female|30.0|    1|    1|   345773|  24.15| null|       S|null| null|                null|       0|\n",
      "|         449|     2|Hocking, Mrs. Eli...|female|54.0|    1|    3|    29105|   23.0| null|       S|   4| null|Cornwall / Akron, OH|       1|\n",
      "|         576|     2|     Veal, Mr. James|  male|40.0|    0|    0|    28221|   13.0| null|       S|null| null|Barre, Co Washing...|       0|\n",
      "|        1083|     3|Olsen, Mr. Henry ...|  male|28.0|    0|    0|   C 4001| 22.525| null|       S|null|173.0|                null|       0|\n",
      "|         898|     3|Johnson, Mr. Will...|  male|19.0|    0|    0|     LINE|    0.0| null|       S|null| null|                null|       0|\n",
      "|         560|     2|Sinkkonen, Miss. ...|female|30.0|    0|    0|   250648|   13.0| null|       S|  10| null|Finland / Washing...|       1|\n",
      "|        1079|     3|  Ohman, Miss. Velin|female|22.0|    0|    0|   347085|  7.775| null|       S|   C| null|                null|       1|\n",
      "|         908|     3|Jussila, Miss. Ma...|female|21.0|    1|    0|     4137|  9.825| null|       S|null| null|                null|       0|\n",
      "|         313|     1|Widener, Mr. Harr...|  male|27.0|    0|    2|   113503|  211.5|  C82|       C|null| null|     Elkins Park, PA|       0|\n",
      "|          43|     1|Bucknell, Mrs. Wi...|female|60.0|    0|    0|    11813|76.2917|  D15|       C|   8| null|    Philadelphia, PA|       1|\n",
      "|         233|     1|Potter, Mrs. Thom...|female|56.0|    0|    1|    11767|83.1583|  C50|       C|   7| null|Mt Airy, Philadel...|       1|\n",
      "|         446|     2|\"Hocking, Miss. E...|female|20.0|    2|    1|    29105|   23.0| null|       S|   4| null|Cornwall / Akron, OH|       1|\n",
      "|         602|     3|Abbott, Mr. Rossm...|  male|16.0|    1|    1|C.A. 2673|  20.25| null|       S|null|190.0| East Providence, RI|       0|\n",
      "|         884|     3|Jensen, Mr. Niels...|  male|48.0|    0|    0|   350047| 7.8542| null|       S|null| null|                null|       0|\n",
      "|         497|     2|Maybery, Mr. Fran...|  male|40.0|    0|    0|   239059|   16.0| null|       S|null| null|Weston-Super-Mare...|       0|\n",
      "|        1003|     3|  McCoy, Mr. Bernard|  male|null|    2|    0|   367226|  23.25| null|       Q|  16| null|                null|       1|\n",
      "|          36|     1|Bowerman, Miss. E...|female|22.0|    0|    1|   113505|   55.0|  E33|       S|   6| null|St Leonards-on-Se...|       1|\n",
      "|        1088|     3|Olsson, Mr. Oscar...|  male|32.0|    0|    0|   347079|  7.775| null|       S|   A| null|                null|       1|\n",
      "+------------+------+--------------------+------+----+-----+-----+---------+-------+-----+--------+----+-----+--------------------+--------+\n",
      "only showing top 20 rows\n",
      "\n"
     ]
    }
   ],
   "metadata": {
    "scrolled": true
   }
  },
  {
   "cell_type": "code",
   "execution_count": 6,
   "source": [
    "data.count()"
   ],
   "outputs": [
    {
     "output_type": "execute_result",
     "data": {
      "text/plain": [
       "850"
      ]
     },
     "metadata": {},
     "execution_count": 6
    }
   ],
   "metadata": {}
  },
  {
   "cell_type": "code",
   "execution_count": 7,
   "source": [
    "filter1=data.select(\"passenger_id\",\"pclass\", \"name\", \"age\",\"survived\")"
   ],
   "outputs": [],
   "metadata": {}
  },
  {
   "cell_type": "code",
   "execution_count": 8,
   "source": [
    "filter1.show(5)"
   ],
   "outputs": [
    {
     "output_type": "stream",
     "name": "stdout",
     "text": [
      "+------------+------+--------------------+----+--------+\n",
      "|passenger_id|pclass|                name| age|survived|\n",
      "+------------+------+--------------------+----+--------+\n",
      "|        1216|     3|  Smyth, Miss. Julia|null|       1|\n",
      "|         699|     3|     Cacic, Mr. Luka|38.0|       0|\n",
      "|        1267|     3|Van Impe, Mrs. Je...|30.0|       0|\n",
      "|         449|     2|Hocking, Mrs. Eli...|54.0|       1|\n",
      "|         576|     2|     Veal, Mr. James|40.0|       0|\n",
      "+------------+------+--------------------+----+--------+\n",
      "only showing top 5 rows\n",
      "\n"
     ]
    }
   ],
   "metadata": {}
  },
  {
   "cell_type": "code",
   "execution_count": 9,
   "source": [
    "filter1.filter(\"survived=1\")"
   ],
   "outputs": [
    {
     "output_type": "execute_result",
     "data": {
      "text/plain": [
       "DataFrame[passenger_id: int, pclass: int, name: string, age: double, survived: int]"
      ]
     },
     "metadata": {},
     "execution_count": 9
    }
   ],
   "metadata": {}
  },
  {
   "cell_type": "code",
   "execution_count": 10,
   "source": [
    "filter1.filter(\"survived=1\").show() "
   ],
   "outputs": [
    {
     "output_type": "stream",
     "name": "stdout",
     "text": [
      "+------------+------+--------------------+----+--------+\n",
      "|passenger_id|pclass|                name| age|survived|\n",
      "+------------+------+--------------------+----+--------+\n",
      "|        1216|     3|  Smyth, Miss. Julia|null|       1|\n",
      "|         449|     2|Hocking, Mrs. Eli...|54.0|       1|\n",
      "|         560|     2|Sinkkonen, Miss. ...|30.0|       1|\n",
      "|        1079|     3|  Ohman, Miss. Velin|22.0|       1|\n",
      "|          43|     1|Bucknell, Mrs. Wi...|60.0|       1|\n",
      "|         233|     1|Potter, Mrs. Thom...|56.0|       1|\n",
      "|         446|     2|\"Hocking, Miss. E...|20.0|       1|\n",
      "|        1003|     3|  McCoy, Mr. Bernard|null|       1|\n",
      "|          36|     1|Bowerman, Miss. E...|22.0|       1|\n",
      "|        1088|     3|Olsson, Mr. Oscar...|32.0|       1|\n",
      "|         978|     3|   Lulic, Mr. Nikola|27.0|       1|\n",
      "|         438|     2|  Herman, Miss. Kate|24.0|       1|\n",
      "|         661|     3|Badman, Miss. Emi...|18.0|       1|\n",
      "|        1002|     3| McCoy, Miss. Alicia|null|       1|\n",
      "|        1162|     3|    Ryan, Mr. Edward|null|       1|\n",
      "|         249|     1|Ryerson, Master. ...|13.0|       1|\n",
      "|         407|     2|Faunthorpe, Mrs. ...|29.0|       1|\n",
      "|         275|     1|Spedden, Mrs. Fre...|40.0|       1|\n",
      "|          87|     1|Daniel, Mr. Rober...|27.0|       1|\n",
      "|         540|     2|Quick, Miss. Phyl...| 2.0|       1|\n",
      "+------------+------+--------------------+----+--------+\n",
      "only showing top 20 rows\n",
      "\n"
     ]
    }
   ],
   "metadata": {}
  },
  {
   "cell_type": "code",
   "execution_count": 11,
   "source": [
    "filter1.filter(\"survived=1 and pclass=1\").show()"
   ],
   "outputs": [
    {
     "output_type": "stream",
     "name": "stdout",
     "text": [
      "+------------+------+--------------------+----+--------+\n",
      "|passenger_id|pclass|                name| age|survived|\n",
      "+------------+------+--------------------+----+--------+\n",
      "|          43|     1|Bucknell, Mrs. Wi...|60.0|       1|\n",
      "|         233|     1|Potter, Mrs. Thom...|56.0|       1|\n",
      "|          36|     1|Bowerman, Miss. E...|22.0|       1|\n",
      "|         249|     1|Ryerson, Master. ...|13.0|       1|\n",
      "|         275|     1|Spedden, Mrs. Fre...|40.0|       1|\n",
      "|          87|     1|Daniel, Mr. Rober...|27.0|       1|\n",
      "|         139|     1|Graham, Mrs. Will...|58.0|       1|\n",
      "|          55|     1|Carter, Miss. Luc...|14.0|       1|\n",
      "|          50|     1|Cardeza, Mrs. Jam...|58.0|       1|\n",
      "|         273|     1|Spedden, Master. ...| 6.0|       1|\n",
      "|          57|     1|Carter, Mrs. Will...|36.0|       1|\n",
      "|         182|     1| LeRoy, Miss. Bertha|30.0|       1|\n",
      "|         296|     1|Thayer, Mrs. John...|39.0|       1|\n",
      "|         293|     1|Taylor, Mrs. Elme...|null|       1|\n",
      "|         168|     1| Icard, Miss. Amelie|38.0|       1|\n",
      "|         229|     1|Penasco y Castell...|17.0|       1|\n",
      "|         170|     1|Ismay, Mr. Joseph...|49.0|       1|\n",
      "|         181|     1|Leader, Dr. Alice...|49.0|       1|\n",
      "|          98|     1|Douglas, Mrs. Wal...|48.0|       1|\n",
      "|         309|     1|Wick, Miss. Mary ...|31.0|       1|\n",
      "+------------+------+--------------------+----+--------+\n",
      "only showing top 20 rows\n",
      "\n"
     ]
    }
   ],
   "metadata": {}
  },
  {
   "cell_type": "code",
   "execution_count": 12,
   "source": [
    "filter1.filter(\"survived=1 and name like 'J%'\").show()"
   ],
   "outputs": [
    {
     "output_type": "stream",
     "name": "stdout",
     "text": [
      "+------------+------+--------------------+----+--------+\n",
      "|passenger_id|pclass|                name| age|survived|\n",
      "+------------+------+--------------------+----+--------+\n",
      "|         460|     2|Jacobsohn, Mrs. S...|24.0|       1|\n",
      "|         886|     3| Jermyn, Miss. Annie|null|       1|\n",
      "|         894|     3|Johnson, Master. ...| 4.0|       1|\n",
      "|         887|     3|Johannesen-Bratth...|null|       1|\n",
      "|         905|     3|   Jonsson, Mr. Carl|32.0|       1|\n",
      "|         881|     3|Jansson, Mr. Carl...|21.0|       1|\n",
      "|         880|     3|  Jalsevac, Mr. Ivan|29.0|       1|\n",
      "|         889|     3|Johansson Palmqui...|26.0|       1|\n",
      "|         465|     2|Jerwan, Mrs. Amin...|23.0|       1|\n",
      "|         909|     3| Jussila, Mr. Eiriik|32.0|       1|\n",
      "+------------+------+--------------------+----+--------+\n",
      "\n"
     ]
    }
   ],
   "metadata": {}
  },
  {
   "cell_type": "code",
   "execution_count": 13,
   "source": [
    "filter1.filter(\"age>=0\").sort((\"age\"), ascending=True).show()"
   ],
   "outputs": [
    {
     "output_type": "stream",
     "name": "stdout",
     "text": [
      "+------------+------+--------------------+------+--------+\n",
      "|passenger_id|pclass|                name|   age|survived|\n",
      "+------------+------+--------------------+------+--------+\n",
      "|         763|     3|\"Dean, Miss. Eliz...|0.1667|       1|\n",
      "|        1240|     3|Thomas, Master. A...|0.4167|       1|\n",
      "|         427|     2|Hamalainen, Maste...|0.6667|       1|\n",
      "|        1111|     3|Peacock, Master. ...|  0.75|       0|\n",
      "|         611|     3|Aks, Master. Phil...|0.8333|       1|\n",
      "|         359|     2|Caldwell, Master....|0.8333|       1|\n",
      "|         548|     2|Richards, Master....|0.8333|       1|\n",
      "|           1|     1|Allison, Master. ...|0.9167|       1|\n",
      "|        1101|     3|Panula, Master. E...|   1.0|       0|\n",
      "|         762|     3|Dean, Master. Ber...|   1.0|       1|\n",
      "|        1187|     3|Sandstrom, Miss. ...|   1.0|       1|\n",
      "|         937|     3|Klasen, Miss. Ger...|   1.0|       0|\n",
      "|         624|     3|Andersson, Miss. ...|   2.0|       0|\n",
      "|        1156|     3|Rosblom, Miss. Sa...|   2.0|       0|\n",
      "|        1096|     3|Palsson, Master. ...|   2.0|       0|\n",
      "|           2|     1|Allison, Miss. He...|   2.0|       0|\n",
      "|        1230|     3|Strom, Miss. Telm...|   2.0|       0|\n",
      "|         540|     2|Quick, Miss. Phyl...|   2.0|       1|\n",
      "|        1144|     3|Rice, Master. Eugene|   2.0|       0|\n",
      "|         587|     2|Wells, Master. Ra...|   2.0|       1|\n",
      "+------------+------+--------------------+------+--------+\n",
      "only showing top 20 rows\n",
      "\n"
     ]
    }
   ],
   "metadata": {}
  },
  {
   "cell_type": "code",
   "execution_count": 14,
   "source": [
    "filter1.describe().show()"
   ],
   "outputs": [
    {
     "output_type": "stream",
     "name": "stderr",
     "text": []
    },
    {
     "output_type": "stream",
     "name": "stdout",
     "text": [
      "+-------+-----------------+------------------+--------------------+------------------+-------------------+\n",
      "|summary|     passenger_id|            pclass|                name|               age|           survived|\n",
      "+-------+-----------------+------------------+--------------------+------------------+-------------------+\n",
      "|  count|              850|               850|                 850|               676|                850|\n",
      "|   mean|662.8164705882353|              2.32|                null|29.519847189349115|0.36823529411764705|\n",
      "| stddev| 380.751936237571|0.8385303201209082|                null|14.562243434125543|0.48260965229818387|\n",
      "|    min|                1|                 1|\"Andersson, Mr. A...|            0.1667|                  0|\n",
      "|    max|             1307|                 3|van Billiard, Mas...|              80.0|                  1|\n",
      "+-------+-----------------+------------------+--------------------+------------------+-------------------+\n",
      "\n"
     ]
    }
   ],
   "metadata": {}
  },
  {
   "cell_type": "code",
   "execution_count": 15,
   "source": [
    "filter1.agg({\"age\":\"max\",\"passenger_id\":\"max\"}).show()"
   ],
   "outputs": [
    {
     "output_type": "stream",
     "name": "stdout",
     "text": [
      "+-----------------+--------+\n",
      "|max(passenger_id)|max(age)|\n",
      "+-----------------+--------+\n",
      "|             1307|    80.0|\n",
      "+-----------------+--------+\n",
      "\n"
     ]
    }
   ],
   "metadata": {}
  },
  {
   "cell_type": "code",
   "execution_count": 16,
   "source": [
    "filter1.printSchema()"
   ],
   "outputs": [
    {
     "output_type": "stream",
     "name": "stdout",
     "text": [
      "root\n",
      " |-- passenger_id: integer (nullable = true)\n",
      " |-- pclass: integer (nullable = true)\n",
      " |-- name: string (nullable = true)\n",
      " |-- age: double (nullable = true)\n",
      " |-- survived: integer (nullable = true)\n",
      "\n"
     ]
    }
   ],
   "metadata": {}
  }
 ],
 "metadata": {
  "kernelspec": {
   "name": "python3",
   "display_name": "Python 3.8.10 64-bit"
  },
  "language_info": {
   "codemirror_mode": {
    "name": "ipython",
    "version": 3
   },
   "file_extension": ".py",
   "mimetype": "text/x-python",
   "name": "python",
   "nbconvert_exporter": "python",
   "pygments_lexer": "ipython3",
   "version": "3.8.10"
  },
  "interpreter": {
   "hash": "916dbcbb3f70747c44a77c7bcd40155683ae19c65e1c03b4aa3499c5328201f1"
  }
 },
 "nbformat": 4,
 "nbformat_minor": 5
}