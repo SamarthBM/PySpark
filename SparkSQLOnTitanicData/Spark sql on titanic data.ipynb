{
 "cells": [
  {
   "cell_type": "markdown",
   "source": [
    "\n",
    "\"\"\"\n",
    "\n",
    "@Author: Samarth BM\n",
    "\n",
    "@Date: 2021-11-10\n",
    "\n",
    "@Last Modified by: Samarth BM\n",
    "\n",
    "@Title : To create a dataframe from titanic.csv and perform spark sql by creating temporary view.\n",
    "\n",
    "\"\"\""
   ],
   "metadata": {}
  },
  {
   "cell_type": "code",
   "execution_count": 2,
   "source": [
    "import findspark"
   ],
   "outputs": [],
   "metadata": {}
  },
  {
   "cell_type": "code",
   "execution_count": 3,
   "source": [
    "findspark.init('/home/samarth/spark/')"
   ],
   "outputs": [],
   "metadata": {}
  },
  {
   "cell_type": "code",
   "execution_count": 4,
   "source": [
    "from pyspark.sql import *\n",
    "spark = SparkSession.builder.getOrCreate()\n",
    "from pyspark.sql.functions import *"
   ],
   "outputs": [
    {
     "output_type": "stream",
     "name": "stderr",
     "text": [
      "21/11/12 00:20:29 WARN NativeCodeLoader: Unable to load native-hadoop library for your platform... using builtin-java classes where applicable\n",
      "Using Spark's default log4j profile: org/apache/spark/log4j-defaults.properties\n",
      "Setting default log level to \"WARN\".\n",
      "To adjust logging level use sc.setLogLevel(newLevel). For SparkR, use setLogLevel(newLevel).\n",
      "21/11/12 00:20:33 WARN Utils: Service 'SparkUI' could not bind on port 4040. Attempting port 4041.\n",
      "21/11/12 00:20:33 WARN Utils: Service 'SparkUI' could not bind on port 4041. Attempting port 4042.\n",
      "21/11/12 00:20:33 WARN Utils: Service 'SparkUI' could not bind on port 4042. Attempting port 4043.\n",
      "21/11/12 00:20:33 WARN Utils: Service 'SparkUI' could not bind on port 4043. Attempting port 4044.\n",
      "21/11/12 00:20:33 WARN Utils: Service 'SparkUI' could not bind on port 4044. Attempting port 4045.\n",
      "21/11/12 00:20:33 WARN Utils: Service 'SparkUI' could not bind on port 4045. Attempting port 4046.\n"
     ]
    }
   ],
   "metadata": {}
  },
  {
   "cell_type": "code",
   "execution_count": 5,
   "source": [
    "df= spark.read.option(\"inferSchema\", \"true\").csv(\"hdfs://localhost:9000/FileForRDD/titanic_train.csv\", header=True)"
   ],
   "outputs": [
    {
     "output_type": "stream",
     "name": "stderr",
     "text": []
    }
   ],
   "metadata": {}
  },
  {
   "cell_type": "code",
   "execution_count": 6,
   "source": [
    "#df.createOrReplaceTempView(\"titanic\")"
   ],
   "outputs": [],
   "metadata": {}
  },
  {
   "cell_type": "code",
   "execution_count": 7,
   "source": [
    "df1=df.select(\"passenger_id\",\"pclass\", \"name\", \"age\",\"survived\")"
   ],
   "outputs": [],
   "metadata": {}
  },
  {
   "cell_type": "code",
   "execution_count": 8,
   "source": [
    "df1.createOrReplaceTempView(\"titanic\")"
   ],
   "outputs": [],
   "metadata": {}
  },
  {
   "cell_type": "code",
   "execution_count": 9,
   "source": [
    "df1.show()"
   ],
   "outputs": [
    {
     "output_type": "stream",
     "name": "stdout",
     "text": [
      "+------------+------+--------------------+----+--------+\n",
      "|passenger_id|pclass|                name| age|survived|\n",
      "+------------+------+--------------------+----+--------+\n",
      "|        1216|     3|  Smyth, Miss. Julia|null|       1|\n",
      "|         699|     3|     Cacic, Mr. Luka|38.0|       0|\n",
      "|        1267|     3|Van Impe, Mrs. Je...|30.0|       0|\n",
      "|         449|     2|Hocking, Mrs. Eli...|54.0|       1|\n",
      "|         576|     2|     Veal, Mr. James|40.0|       0|\n",
      "|        1083|     3|Olsen, Mr. Henry ...|28.0|       0|\n",
      "|         898|     3|Johnson, Mr. Will...|19.0|       0|\n",
      "|         560|     2|Sinkkonen, Miss. ...|30.0|       1|\n",
      "|        1079|     3|  Ohman, Miss. Velin|22.0|       1|\n",
      "|         908|     3|Jussila, Miss. Ma...|21.0|       0|\n",
      "|         313|     1|Widener, Mr. Harr...|27.0|       0|\n",
      "|          43|     1|Bucknell, Mrs. Wi...|60.0|       1|\n",
      "|         233|     1|Potter, Mrs. Thom...|56.0|       1|\n",
      "|         446|     2|\"Hocking, Miss. E...|20.0|       1|\n",
      "|         602|     3|Abbott, Mr. Rossm...|16.0|       0|\n",
      "|         884|     3|Jensen, Mr. Niels...|48.0|       0|\n",
      "|         497|     2|Maybery, Mr. Fran...|40.0|       0|\n",
      "|        1003|     3|  McCoy, Mr. Bernard|null|       1|\n",
      "|          36|     1|Bowerman, Miss. E...|22.0|       1|\n",
      "|        1088|     3|Olsson, Mr. Oscar...|32.0|       1|\n",
      "+------------+------+--------------------+----+--------+\n",
      "only showing top 20 rows\n",
      "\n"
     ]
    }
   ],
   "metadata": {}
  },
  {
   "cell_type": "code",
   "execution_count": 10,
   "source": [
    "data=spark.sql(\"SELECT*FROM titanic\")"
   ],
   "outputs": [],
   "metadata": {}
  },
  {
   "cell_type": "code",
   "execution_count": 11,
   "source": [
    "data.show()"
   ],
   "outputs": [
    {
     "output_type": "stream",
     "name": "stdout",
     "text": [
      "+------------+------+--------------------+----+--------+\n",
      "|passenger_id|pclass|                name| age|survived|\n",
      "+------------+------+--------------------+----+--------+\n",
      "|        1216|     3|  Smyth, Miss. Julia|null|       1|\n",
      "|         699|     3|     Cacic, Mr. Luka|38.0|       0|\n",
      "|        1267|     3|Van Impe, Mrs. Je...|30.0|       0|\n",
      "|         449|     2|Hocking, Mrs. Eli...|54.0|       1|\n",
      "|         576|     2|     Veal, Mr. James|40.0|       0|\n",
      "|        1083|     3|Olsen, Mr. Henry ...|28.0|       0|\n",
      "|         898|     3|Johnson, Mr. Will...|19.0|       0|\n",
      "|         560|     2|Sinkkonen, Miss. ...|30.0|       1|\n",
      "|        1079|     3|  Ohman, Miss. Velin|22.0|       1|\n",
      "|         908|     3|Jussila, Miss. Ma...|21.0|       0|\n",
      "|         313|     1|Widener, Mr. Harr...|27.0|       0|\n",
      "|          43|     1|Bucknell, Mrs. Wi...|60.0|       1|\n",
      "|         233|     1|Potter, Mrs. Thom...|56.0|       1|\n",
      "|         446|     2|\"Hocking, Miss. E...|20.0|       1|\n",
      "|         602|     3|Abbott, Mr. Rossm...|16.0|       0|\n",
      "|         884|     3|Jensen, Mr. Niels...|48.0|       0|\n",
      "|         497|     2|Maybery, Mr. Fran...|40.0|       0|\n",
      "|        1003|     3|  McCoy, Mr. Bernard|null|       1|\n",
      "|          36|     1|Bowerman, Miss. E...|22.0|       1|\n",
      "|        1088|     3|Olsson, Mr. Oscar...|32.0|       1|\n",
      "+------------+------+--------------------+----+--------+\n",
      "only showing top 20 rows\n",
      "\n"
     ]
    }
   ],
   "metadata": {}
  },
  {
   "cell_type": "code",
   "execution_count": 12,
   "source": [
    "spark.sql(\"SELECT pclass,name FROM titanic\").show()"
   ],
   "outputs": [
    {
     "output_type": "stream",
     "name": "stdout",
     "text": [
      "+------+--------------------+\n",
      "|pclass|                name|\n",
      "+------+--------------------+\n",
      "|     3|  Smyth, Miss. Julia|\n",
      "|     3|     Cacic, Mr. Luka|\n",
      "|     3|Van Impe, Mrs. Je...|\n",
      "|     2|Hocking, Mrs. Eli...|\n",
      "|     2|     Veal, Mr. James|\n",
      "|     3|Olsen, Mr. Henry ...|\n",
      "|     3|Johnson, Mr. Will...|\n",
      "|     2|Sinkkonen, Miss. ...|\n",
      "|     3|  Ohman, Miss. Velin|\n",
      "|     3|Jussila, Miss. Ma...|\n",
      "|     1|Widener, Mr. Harr...|\n",
      "|     1|Bucknell, Mrs. Wi...|\n",
      "|     1|Potter, Mrs. Thom...|\n",
      "|     2|\"Hocking, Miss. E...|\n",
      "|     3|Abbott, Mr. Rossm...|\n",
      "|     3|Jensen, Mr. Niels...|\n",
      "|     2|Maybery, Mr. Fran...|\n",
      "|     3|  McCoy, Mr. Bernard|\n",
      "|     1|Bowerman, Miss. E...|\n",
      "|     3|Olsson, Mr. Oscar...|\n",
      "+------+--------------------+\n",
      "only showing top 20 rows\n",
      "\n"
     ]
    }
   ],
   "metadata": {}
  },
  {
   "cell_type": "code",
   "execution_count": 13,
   "source": [
    "spark.sql(\"SELECT * FROM titanic WHERE `survived`=1\").show()"
   ],
   "outputs": [
    {
     "output_type": "stream",
     "name": "stdout",
     "text": [
      "+------------+------+--------------------+----+--------+\n",
      "|passenger_id|pclass|                name| age|survived|\n",
      "+------------+------+--------------------+----+--------+\n",
      "|        1216|     3|  Smyth, Miss. Julia|null|       1|\n",
      "|         449|     2|Hocking, Mrs. Eli...|54.0|       1|\n",
      "|         560|     2|Sinkkonen, Miss. ...|30.0|       1|\n",
      "|        1079|     3|  Ohman, Miss. Velin|22.0|       1|\n",
      "|          43|     1|Bucknell, Mrs. Wi...|60.0|       1|\n",
      "|         233|     1|Potter, Mrs. Thom...|56.0|       1|\n",
      "|         446|     2|\"Hocking, Miss. E...|20.0|       1|\n",
      "|        1003|     3|  McCoy, Mr. Bernard|null|       1|\n",
      "|          36|     1|Bowerman, Miss. E...|22.0|       1|\n",
      "|        1088|     3|Olsson, Mr. Oscar...|32.0|       1|\n",
      "|         978|     3|   Lulic, Mr. Nikola|27.0|       1|\n",
      "|         438|     2|  Herman, Miss. Kate|24.0|       1|\n",
      "|         661|     3|Badman, Miss. Emi...|18.0|       1|\n",
      "|        1002|     3| McCoy, Miss. Alicia|null|       1|\n",
      "|        1162|     3|    Ryan, Mr. Edward|null|       1|\n",
      "|         249|     1|Ryerson, Master. ...|13.0|       1|\n",
      "|         407|     2|Faunthorpe, Mrs. ...|29.0|       1|\n",
      "|         275|     1|Spedden, Mrs. Fre...|40.0|       1|\n",
      "|          87|     1|Daniel, Mr. Rober...|27.0|       1|\n",
      "|         540|     2|Quick, Miss. Phyl...| 2.0|       1|\n",
      "+------------+------+--------------------+----+--------+\n",
      "only showing top 20 rows\n",
      "\n"
     ]
    }
   ],
   "metadata": {}
  },
  {
   "cell_type": "code",
   "execution_count": 14,
   "source": [
    "spark.sql(\"SELECT * FROM titanic WHERE `age`>=0 ORDER BY age desc limit 10\").show()"
   ],
   "outputs": [
    {
     "output_type": "stream",
     "name": "stdout",
     "text": [
      "+------------+------+--------------------+----+--------+\n",
      "|passenger_id|pclass|                name| age|survived|\n",
      "+------------+------+--------------------+----+--------+\n",
      "|          14|     1|Barkworth, Mr. Al...|80.0|       1|\n",
      "|          61|     1|Cavendish, Mrs. T...|76.0|       1|\n",
      "|        1235|     3| Svensson, Mr. Johan|74.0|       0|\n",
      "|         506|     2|Mitchell, Mr. Hen...|70.0|       0|\n",
      "|          81|     1|Crosby, Capt. Edw...|70.0|       0|\n",
      "|         285|     1|  Straus, Mr. Isidor|67.0|       0|\n",
      "|         782|     3|    Duane, Mr. Frank|65.0|       0|\n",
      "|         221|     1|Ostby, Mr. Engelh...|65.0|       0|\n",
      "|         115|     1|   Fortune, Mr. Mark|64.0|       0|\n",
      "|          83|     1|Crosby, Mrs. Edwa...|64.0|       1|\n",
      "+------------+------+--------------------+----+--------+\n",
      "\n"
     ]
    }
   ],
   "metadata": {}
  },
  {
   "cell_type": "code",
   "execution_count": 15,
   "source": [
    "spark.sql(\"SELECT COUNT(passenger_id) FROM titanic\").show()"
   ],
   "outputs": [
    {
     "output_type": "stream",
     "name": "stdout",
     "text": [
      "+-------------------+\n",
      "|count(passenger_id)|\n",
      "+-------------------+\n",
      "|                850|\n",
      "+-------------------+\n",
      "\n"
     ]
    }
   ],
   "metadata": {}
  },
  {
   "cell_type": "code",
   "execution_count": 16,
   "source": [
    "spark.sql(\"SELECT MAX(age) FROM titanic\").show()"
   ],
   "outputs": [
    {
     "output_type": "stream",
     "name": "stdout",
     "text": [
      "+--------+\n",
      "|max(age)|\n",
      "+--------+\n",
      "|    80.0|\n",
      "+--------+\n",
      "\n"
     ]
    }
   ],
   "metadata": {}
  },
  {
   "cell_type": "code",
   "execution_count": 17,
   "source": [
    "spark.sql(\"SELECT MIN(age) FROM titanic\").show()"
   ],
   "outputs": [
    {
     "output_type": "stream",
     "name": "stdout",
     "text": [
      "+--------+\n",
      "|min(age)|\n",
      "+--------+\n",
      "|  0.1667|\n",
      "+--------+\n",
      "\n"
     ]
    }
   ],
   "metadata": {}
  },
  {
   "cell_type": "code",
   "execution_count": 18,
   "source": [
    "spark.sql(\"SELECT * FROM titanic WHERE `age`>60 ORDER BY age\").show()"
   ],
   "outputs": [
    {
     "output_type": "stream",
     "name": "stdout",
     "text": [
      "+------------+------+--------------------+----+--------+\n",
      "|passenger_id|pclass|                name| age|survived|\n",
      "+------------+------+--------------------+----+--------+\n",
      "|        1225|     3|  Storey, Mr. Thomas|60.5|       0|\n",
      "|         300|     1|Van der hoef, Mr....|61.0|       0|\n",
      "|        1068|     3|Nysveen, Mr. Joha...|61.0|       0|\n",
      "|         487|     2|   Lingane, Mr. John|61.0|       0|\n",
      "|         511|     2|Myles, Mr. Thomas...|62.0|       0|\n",
      "|         279|     1|Stead, Mr. Willia...|62.0|       0|\n",
      "|         321|     1|  Wright, Mr. George|62.0|       0|\n",
      "|         455|     2|Howard, Mr. Benjamin|63.0|       0|\n",
      "|         286|     1|Straus, Mrs. Isid...|63.0|       0|\n",
      "|         217|     1|Nicholson, Mr. Ar...|64.0|       0|\n",
      "|         115|     1|   Fortune, Mr. Mark|64.0|       0|\n",
      "|          83|     1|Crosby, Mrs. Edwa...|64.0|       1|\n",
      "|         782|     3|    Duane, Mr. Frank|65.0|       0|\n",
      "|         221|     1|Ostby, Mr. Engelh...|65.0|       0|\n",
      "|         285|     1|  Straus, Mr. Isidor|67.0|       0|\n",
      "|         506|     2|Mitchell, Mr. Hen...|70.0|       0|\n",
      "|          81|     1|Crosby, Capt. Edw...|70.0|       0|\n",
      "|        1235|     3| Svensson, Mr. Johan|74.0|       0|\n",
      "|          61|     1|Cavendish, Mrs. T...|76.0|       1|\n",
      "|          14|     1|Barkworth, Mr. Al...|80.0|       1|\n",
      "+------------+------+--------------------+----+--------+\n",
      "\n"
     ]
    }
   ],
   "metadata": {}
  },
  {
   "cell_type": "code",
   "execution_count": 19,
   "source": [
    "spark.sql(\"SELECT passenger_id FROM titanic WHERE age = (SELECT MAX(age) FROM titanic)\").show()"
   ],
   "outputs": [
    {
     "output_type": "stream",
     "name": "stdout",
     "text": [
      "+------------+\n",
      "|passenger_id|\n",
      "+------------+\n",
      "|          14|\n",
      "+------------+\n",
      "\n"
     ]
    }
   ],
   "metadata": {}
  },
  {
   "cell_type": "code",
   "execution_count": 20,
   "source": [
    "spark.sql(\"SELECT * FROM titanic WHERE passenger_id=14\").show()"
   ],
   "outputs": [
    {
     "output_type": "stream",
     "name": "stdout",
     "text": [
      "+------------+------+--------------------+----+--------+\n",
      "|passenger_id|pclass|                name| age|survived|\n",
      "+------------+------+--------------------+----+--------+\n",
      "|          14|     1|Barkworth, Mr. Al...|80.0|       1|\n",
      "+------------+------+--------------------+----+--------+\n",
      "\n"
     ]
    }
   ],
   "metadata": {}
  },
  {
   "cell_type": "code",
   "execution_count": 21,
   "source": [
    "spark.sql(\"SELECT MAX(age) AS `Maximum age` FROM titanic\").show()"
   ],
   "outputs": [
    {
     "output_type": "stream",
     "name": "stdout",
     "text": [
      "+-----------+\n",
      "|Maximum age|\n",
      "+-----------+\n",
      "|       80.0|\n",
      "+-----------+\n",
      "\n"
     ]
    }
   ],
   "metadata": {}
  }
 ],
 "metadata": {
  "kernelspec": {
   "name": "python3",
   "display_name": "Python 3.8.10 64-bit"
  },
  "language_info": {
   "codemirror_mode": {
    "name": "ipython",
    "version": 3
   },
   "file_extension": ".py",
   "mimetype": "text/x-python",
   "name": "python",
   "nbconvert_exporter": "python",
   "pygments_lexer": "ipython3",
   "version": "3.8.10"
  },
  "interpreter": {
   "hash": "916dbcbb3f70747c44a77c7bcd40155683ae19c65e1c03b4aa3499c5328201f1"
  }
 },
 "nbformat": 4,
 "nbformat_minor": 5
}